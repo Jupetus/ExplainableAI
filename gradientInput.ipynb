{
 "cells": [
  {
   "cell_type": "code",
   "execution_count": 1,
   "metadata": {},
   "outputs": [],
   "source": [
    "import numpy as np\n",
    "import torch\n",
    "import torchvision\n",
    "import matplotlib.pyplot as plt\n",
    "from time import time\n",
    "from torchvision import datasets, transforms\n",
    "from torch import nn, optim\n",
    "import torch.nn.functional as F"
   ]
  },
  {
   "cell_type": "markdown",
   "metadata": {},
   "source": [
    "### Data\n",
    "\n",
    "\n",
    "Load data and make sure everything is ok"
   ]
  },
  {
   "cell_type": "code",
   "execution_count": 2,
   "metadata": {},
   "outputs": [],
   "source": [
    "transform = transforms.Compose([transforms.ToTensor(),\n",
    "                              transforms.Normalize((0.5,), (0.5,)),\n",
    "                              ])\n",
    "\n",
    "# Prep the datasets\n",
    "trainset = datasets.MNIST('MnistData', download=True, train=True, transform=transform)\n",
    "valset = datasets.MNIST('MnistData', download=True, train=False, transform=transform)\n",
    "\n",
    "# Feeding for a NN\n",
    "trainloader = torch.utils.data.DataLoader(trainset, batch_size=64, shuffle=True)\n",
    "valloader = torch.utils.data.DataLoader(valset, batch_size=64, shuffle=True)"
   ]
  },
  {
   "cell_type": "code",
   "execution_count": 3,
   "metadata": {},
   "outputs": [
    {
     "data": {
      "image/png": "[encoded data removed]",
      "text/plain": [
       "<Figure size 432x288 with 5 Axes>"
      ]
     },
     "metadata": {
      "needs_background": "light"
     },
     "output_type": "display_data"
    }
   ],
   "source": [
    "dataiter = iter(trainloader)\n",
    "images, labels = dataiter.next()\n",
    "\n",
    "visualize = 5\n",
    "plt.figure()\n",
    "for i in range(visualize):\n",
    "    plt.subplot(1, visualize, i + 1)\n",
    "    plt.title(labels[i].data.tolist())\n",
    "    plt.axis('off')\n",
    "    plt.imshow(images[i].numpy().reshape(28,28), cmap=\"gray_r\")"
   ]
  },
  {
   "cell_type": "markdown",
   "metadata": {},
   "source": [
    "### Network\n",
    "\n",
    "Define a standard FFN and train it to some extend for testing"
   ]
  },
  {
   "cell_type": "code",
   "execution_count": 4,
   "metadata": {},
   "outputs": [],
   "source": [
    "class mnistnet(nn.Module):\n",
    "    \n",
    "    def __init__(self, input_size, hidden1, hidden2, output_size):\n",
    "        super(mnistnet, self).__init__()\n",
    "        # Define the layers\n",
    "        self.fl1 = nn.Linear(input_size, hidden1)\n",
    "        self.fl2 = nn.Linear(hidden1, hidden2)\n",
    "        self.fl3 = nn.Linear(hidden2, output_size)\n",
    "        self.out = nn.LogSoftmax(dim=1)\n",
    "        \n",
    "    # Forward pass\n",
    "    def forward(self, x):\n",
    "        x = F.relu(self.fl1(x))\n",
    "        x = F.relu(self.fl2(x))\n",
    "        x = self.fl3(x)\n",
    "        return self.out(x)\n",
    "        "
   ]
  },
  {
   "cell_type": "code",
   "execution_count": 5,
   "metadata": {},
   "outputs": [],
   "source": [
    "my_network = mnistnet(28*28, 64, 32, 10)"
   ]
  },
  {
   "cell_type": "code",
   "execution_count": 24,
   "metadata": {},
   "outputs": [
    {
     "name": "stdout",
     "output_type": "stream",
     "text": [
      "Epoch 25 loss 39.05735955759883"
     ]
    }
   ],
   "source": [
    "optimizer = optim.SGD(my_network.parameters(), lr=0.003, momentum=0.9)\n",
    "criterion = nn.NLLLoss()\n",
    "\n",
    "losses = []\n",
    "for epoch in range(25):\n",
    "    running_loss = 0\n",
    "    for images, labels in trainloader:\n",
    "        \n",
    "        optimizer.zero_grad()\n",
    "        \n",
    "        output = my_network.forward(images.view(images.shape[0], -1))\n",
    "        loss = criterion(output, labels)\n",
    "        \n",
    "        loss.backward()\n",
    "        optimizer.step()\n",
    "        \n",
    "        running_loss += loss.item()\n",
    "        \n",
    "    losses.append(running_loss)\n",
    "    print(\"\\rEpoch {} loss {}\".format(epoch+1,running_loss), end=\"\")\n",
    "    \n"
   ]
  },
  {
   "cell_type": "code",
   "execution_count": 25,
   "metadata": {},
   "outputs": [
    {
     "data": {
      "image/png": "[encoded data removed]",
      "text/plain": [
       "<Figure size 432x288 with 1 Axes>"
      ]
     },
     "metadata": {
      "needs_background": "light"
     },
     "output_type": "display_data"
    }
   ],
   "source": [
    "plt.figure()\n",
    "plt.xlabel(\"Epoch\")\n",
    "plt.ylabel(\"Loss\")\n",
    "plt.plot(losses)\n",
    "plt.show()"
   ]
  },
  {
   "cell_type": "markdown",
   "metadata": {},
   "source": [
    "### Explainability \n",
    "\n",
    "Use gradient (times) input for the easiest way to see what the network pays attention to\n",
    "\n",
    "$R = \\triangledown f(x) * x$\n",
    "\n",
    "* We can use gradients from pytorch to highlight relevant pixels\n",
    "* Easy to implement method\n",
    "* degenerates with deeper networks"
   ]
  },
  {
   "cell_type": "code",
   "execution_count": 28,
   "metadata": {},
   "outputs": [
    {
     "data": {
      "image/png": "[encoded data removed]",
      "text/plain": [
       "<Figure size 432x288 with 2 Axes>"
      ]
     },
     "metadata": {
      "needs_background": "light"
     },
     "output_type": "display_data"
    },
    {
     "data": {
      "image/png": "[encoded data removed]",
      "text/plain": [
       "<Figure size 432x288 with 2 Axes>"
      ]
     },
     "metadata": {
      "needs_background": "light"
     },
     "output_type": "display_data"
    },
    {
     "data": {
      "image/png": "[encoded data removed]",
      "text/plain": [
       "<Figure size 432x288 with 2 Axes>"
      ]
     },
     "metadata": {
      "needs_background": "light"
     },
     "output_type": "display_data"
    },
    {
     "data": {
      "image/png": "[encoded data removed]",
      "text/plain": [
       "<Figure size 432x288 with 2 Axes>"
      ]
     },
     "metadata": {
      "needs_background": "light"
     },
     "output_type": "display_data"
    }
   ],
   "source": [
    "# Decide x examples\n",
    "for i in range(1,5):\n",
    "    test_input = images[i].view(1, -1)\n",
    "    test_input.requires_grad = True\n",
    "    \n",
    "    # To find relevant pixels, we need to only focus on the true output\n",
    "    one_hot_target = torch.zeros(10)\n",
    "    one_hot_target[labels[i]] = 1\n",
    "    \n",
    "    # To find the gradient, we use autograd\n",
    "    loss = (my_network(test_input) * one_hot_target).sum()\n",
    "    loss.backward()\n",
    "    plt.figure()\n",
    "    R = (test_input.data * test_input.grad).detach().numpy().reshape(28,28)\n",
    "    \n",
    "    # Plot output\n",
    "    plt.subplot(1,2,1)\n",
    "    plt.imshow(test_input.detach().reshape(28,28).numpy())\n",
    "    plt.subplot(1,2,2)\n",
    "    plt.imshow(R.reshape(28, 28), cmap=\"seismic\")"
   ]
  },
  {
   "cell_type": "markdown",
   "metadata": {},
   "source": [
    "### Conclusions\n",
    "\n",
    "In the images\n",
    "\n",
    "* Red pixels: \n",
    "* Blue pixels:  \n",
    "\n",
    "are used to make ultimate decisions"
   ]
  },
  {
   "cell_type": "code",
   "execution_count": 30,
   "metadata": {},
   "outputs": [
    {
     "data": {
      "text/plain": [
       "0.0843102"
      ]
     },
     "execution_count": 30,
     "metadata": {},
     "output_type": "execute_result"
    }
   ],
   "source": [
    "R[8,8]"
   ]
  },
  {
   "cell_type": "code",
   "execution_count": null,
   "metadata": {},
   "outputs": [],
   "source": []
  }
 ],
 "metadata": {
  "kernelspec": {
   "display_name": "Python 3",
   "language": "python",
   "name": "python3"
  },
  "language_info": {
   "codemirror_mode": {
    "name": "ipython",
    "version": 3
   },
   "file_extension": ".py",
   "mimetype": "text/x-python",
   "name": "python",
   "nbconvert_exporter": "python",
   "pygments_lexer": "ipython3",
   "version": "3.6.8"
  }
 },
 "nbformat": 4,
 "nbformat_minor": 2
}
