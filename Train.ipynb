{
 "cells": [
  {
   "cell_type": "code",
   "execution_count": 1,
   "metadata": {},
   "outputs": [],
   "source": [
    "import numpy as np\n",
    "import torch\n",
    "import torchvision\n",
    "import matplotlib.pyplot as plt\n",
    "from time import time\n",
    "from torchvision import datasets, transforms\n",
    "from torch import nn, optim\n",
    "import torch.nn.functional as F\n",
    "\n",
    "from Network.simpleCNN import simpleCNN\n",
    "from Network.simpleFF import simpleFF"
   ]
  },
  {
   "cell_type": "markdown",
   "metadata": {},
   "source": [
    "### Load data and models"
   ]
  },
  {
   "cell_type": "code",
   "execution_count": 2,
   "metadata": {},
   "outputs": [],
   "source": [
    "transform = transforms.Compose([transforms.ToTensor(),\n",
    "                              transforms.Normalize((0.5,), (0.5,)),\n",
    "                              ])\n",
    "\n",
    "# Prep the datasets\n",
    "trainset = datasets.MNIST('MnistData', download=True, train=True, transform=transform)\n",
    "valset = datasets.MNIST('MnistData', download=True, train=False, transform=transform)\n",
    "\n",
    "# Feeding for a NN\n",
    "trainloader = torch.utils.data.DataLoader(trainset, batch_size=64, shuffle=True)\n",
    "valloader = torch.utils.data.DataLoader(valset, batch_size=64, shuffle=True)"
   ]
  },
  {
   "cell_type": "code",
   "execution_count": 36,
   "metadata": {},
   "outputs": [],
   "source": [
    "criterion = nn.NLLLoss()\n",
    "\n",
    "ff_network = simpleFF(28*28, 64, 32, 10)\n",
    "ff_optimizer = optim.SGD(ff_network.parameters(), lr=0.003, momentum=0.9)\n",
    "\n",
    "cnn_network = simpleCNN(9 * 4 * 4, 64, 32, 10)\n",
    "cnn_optimizer = optim.SGD(cnn_network.parameters(), lr=0.003, momentum=0.9)"
   ]
  },
  {
   "cell_type": "markdown",
   "metadata": {},
   "source": [
    "### Train a FF network"
   ]
  },
  {
   "cell_type": "code",
   "execution_count": 37,
   "metadata": {},
   "outputs": [
    {
     "name": "stdout",
     "output_type": "stream",
     "text": [
      "Epoch 10 train loss 94.37896613031626 validation loss 17.598387390375137"
     ]
    }
   ],
   "source": [
    "epochs = 10\n",
    "\n",
    "train_error = []\n",
    "valid_error = []\n",
    "\n",
    "for epoch in range(epochs):\n",
    "    training_loss= 0\n",
    "    validation_loss = 0\n",
    "    for images, labels in trainloader:\n",
    "        ff_network.train()\n",
    "        ff_optimizer.zero_grad()\n",
    "        \n",
    "        ff_out = ff_network(images.view(images.shape[0], -1))\n",
    "        loss = criterion(ff_out, labels)\n",
    "        loss.backward()\n",
    "        ff_optimizer.step()\n",
    "        training_loss += loss.item()\n",
    "        \n",
    "    for images, labels in valloader:\n",
    "        ff_network.eval()\n",
    "        ff_out = ff_network(images.view(images.shape[0], -1))\n",
    "        loss = criterion(ff_out, labels)\n",
    "        validation_loss += loss.item()\n",
    "    \n",
    "    train_error.append(training_loss)\n",
    "    valid_error.append(validation_loss)\n",
    "    print(\"\\rEpoch {} train loss {} validation loss {}\".format(epoch+1, training_loss, validation_loss), end=\"\")\n",
    "    \n"
   ]
  },
  {
   "cell_type": "code",
   "execution_count": 38,
   "metadata": {},
   "outputs": [
    {
     "data": {
      "image/png": "[encoded data removed]",
      "text/plain": [
       "<Figure size 432x288 with 1 Axes>"
      ]
     },
     "metadata": {
      "needs_background": "light"
     },
     "output_type": "display_data"
    }
   ],
   "source": [
    "plt.figure()\n",
    "plt.plot(train_error)\n",
    "plt.plot(valid_error)\n",
    "plt.show()"
   ]
  },
  {
   "cell_type": "code",
   "execution_count": 50,
   "metadata": {},
   "outputs": [],
   "source": [
    "torch.save(ff_network.state_dict(), \"Network/ff_network\")"
   ]
  },
  {
   "cell_type": "markdown",
   "metadata": {},
   "source": [
    "### Train a CNN"
   ]
  },
  {
   "cell_type": "code",
   "execution_count": 52,
   "metadata": {},
   "outputs": [
    {
     "name": "stdout",
     "output_type": "stream",
     "text": [
      "Epoch 10 train loss 38.338099632412195 validation loss 6.529189169406891"
     ]
    }
   ],
   "source": [
    "epochs = 10\n",
    "\n",
    "train_error = []\n",
    "valid_error = []\n",
    "\n",
    "for epoch in range(epochs):\n",
    "    training_loss= 0\n",
    "    validation_loss = 0\n",
    "    for images, labels in trainloader:\n",
    "        cnn_network.train()\n",
    "        cnn_optimizer.zero_grad()\n",
    "        \n",
    "        cnn_out = cnn_network(images)\n",
    "        loss = criterion(cnn_out, labels)\n",
    "        loss.backward()\n",
    "        cnn_optimizer.step()\n",
    "        training_loss += loss.item()\n",
    "        \n",
    "    for images, labels in valloader:\n",
    "        cnn_network.eval()\n",
    "        cnn_out = cnn_network(images)\n",
    "        loss = criterion(cnn_out, labels)\n",
    "        validation_loss += loss.item()\n",
    "    \n",
    "    train_error.append(training_loss)\n",
    "    valid_error.append(validation_loss)\n",
    "    print(\"\\rEpoch {} train loss {} validation loss {}\".format(epoch+1, training_loss, validation_loss), end=\"\")\n",
    "    \n"
   ]
  },
  {
   "cell_type": "code",
   "execution_count": 53,
   "metadata": {},
   "outputs": [
    {
     "data": {
      "image/png": "[encoded data removed]",
      "text/plain": [
       "<Figure size 432x288 with 1 Axes>"
      ]
     },
     "metadata": {
      "needs_background": "light"
     },
     "output_type": "display_data"
    }
   ],
   "source": [
    "plt.figure()\n",
    "plt.plot(train_error)\n",
    "plt.plot(valid_error)\n",
    "plt.show()"
   ]
  },
  {
   "cell_type": "code",
   "execution_count": 54,
   "metadata": {},
   "outputs": [],
   "source": [
    "torch.save(cnn_network.state_dict(), \"Network/cnn_network\")"
   ]
  },
  {
   "cell_type": "code",
   "execution_count": null,
   "metadata": {},
   "outputs": [],
   "source": []
  }
 ],
 "metadata": {
  "kernelspec": {
   "display_name": "Python 3",
   "language": "python",
   "name": "python3"
  },
  "language_info": {
   "codemirror_mode": {
    "name": "ipython",
    "version": 3
   },
   "file_extension": ".py",
   "mimetype": "text/x-python",
   "name": "python",
   "nbconvert_exporter": "python",
   "pygments_lexer": "ipython3",
   "version": "3.6.8"
  }
 },
 "nbformat": 4,
 "nbformat_minor": 2
}
