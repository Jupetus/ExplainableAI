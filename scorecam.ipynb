{
 "cells": [
  {
   "cell_type": "code",
   "execution_count": 1,
   "metadata": {},
   "outputs": [],
   "source": [
    "import numpy as np\n",
    "import torch\n",
    "import torchvision\n",
    "import matplotlib.pyplot as plt\n",
    "from time import time\n",
    "from torchvision import datasets, transforms\n",
    "from torch import nn, optim\n",
    "import torch.nn.functional as F"
   ]
  },
  {
   "cell_type": "markdown",
   "metadata": {},
   "source": [
    "### Data\n",
    "\n",
    "Download the data "
   ]
  },
  {
   "cell_type": "code",
   "execution_count": 145,
   "metadata": {},
   "outputs": [],
   "source": [
    "transform = transforms.Compose([transforms.ToTensor(),\n",
    "                              transforms.Normalize((0.5,), (0.5,)),\n",
    "                              ])\n",
    "\n",
    "# Prep the datasets\n",
    "trainset = datasets.MNIST('MnistData', download=True, train=True, transform=transform)\n",
    "valset = datasets.MNIST('MnistData', download=True, train=False, transform=transform)\n",
    "\n",
    "# Feeding for a NN\n",
    "trainloader = torch.utils.data.DataLoader(trainset, batch_size=64, shuffle=True)\n",
    "valloader = torch.utils.data.DataLoader(valset, batch_size=64, shuffle=True)"
   ]
  },
  {
   "cell_type": "markdown",
   "metadata": {},
   "source": [
    "### Model\n",
    "\n",
    "Basic CNN model and training"
   ]
  },
  {
   "cell_type": "code",
   "execution_count": null,
   "metadata": {},
   "outputs": [],
   "source": [
    "class mnistnet(nn.Module):\n",
    "    \n",
    "    def __init__(self, input_size, hidden1, hidden2, output_size):\n",
    "        super(mnistnet, self).__init__()\n",
    "        # Define the layers\n",
    "        self.conv1 = nn.Conv2d(1, 3, 5)\n",
    "        self.pool = nn.MaxPool2d(2, 2)\n",
    "        self.conv2 = nn.Conv2d(3, 9, 5)\n",
    "        self.fl1 = nn.Linear(input_size, hidden1)\n",
    "        self.fl2 = nn.Linear(hidden1, hidden2)\n",
    "        self.fl3 = nn.Linear(hidden2, output_size)\n",
    "        self.out = nn.LogSoftmax(dim=1)\n",
    "        \n",
    "    # Forward pass\n",
    "    def forward(self, x):\n",
    "        x = self.pool(F.relu(self.conv1(x)))\n",
    "        x = self.pool(F.relu(self.conv2(x)))\n",
    "        x = x.view(-1, 9 * 4 * 4)\n",
    "        x = F.relu(self.fl1(x))\n",
    "        x = F.relu(self.fl2(x))\n",
    "        x = self.fl3(x)\n",
    "        return self.out(x)\n",
    "    \n",
    "my_network = mnistnet(9 * 4 * 4, 64, 32, 10)"
   ]
  },
  {
   "cell_type": "code",
   "execution_count": 146,
   "metadata": {},
   "outputs": [
    {
     "name": "stdout",
     "output_type": "stream",
     "text": [
      "Epoch 10 loss 23.008240826427937"
     ]
    }
   ],
   "source": [
    "optimizer = optim.SGD(my_network.parameters(), lr=0.003, momentum=0.9)\n",
    "criterion = nn.NLLLoss()\n",
    "\n",
    "losses = []\n",
    "for epoch in range(10):\n",
    "    running_loss = 0\n",
    "    for images, labels in trainloader:\n",
    "        optimizer.zero_grad()\n",
    "        \n",
    "        output = my_network.forward(images)\n",
    "        loss = criterion(output, labels)\n",
    "        loss.backward()\n",
    "        optimizer.step()\n",
    "        \n",
    "        running_loss += loss.item()\n",
    "        \n",
    "    losses.append(running_loss)\n",
    "    print(\"\\rEpoch {} loss {}\".format(epoch+1,running_loss), end=\"\")\n",
    "    \n"
   ]
  },
  {
   "cell_type": "markdown",
   "metadata": {},
   "source": [
    "### Score Cam implementation\n",
    "\n",
    "Score cam is implemented in steps, the method can be found in \n",
    "\n",
    "https://arxiv.org/pdf/1910.01279.pdf\n",
    "\n",
    "1. Start by propagating a input image $x$ past the last conv-layer and extract $k$ number of feature maps\n",
    "\n",
    "2. Upscale those feature maps to the original image size\n",
    "\n",
    "3. Normalize each mask with $A^k = \\frac{A^k_{i,j}}{max(A^k) - min(A^k)}$\n",
    "\n",
    "4. Project maps to original image and pass thru the network as $f(x \\otimes A)$\n",
    "\n",
    "5. Obtain a weight $w^k$ for each of the masks defined as NN output \n",
    "\n",
    "6. Calculate final mask as $c_{final}=ReLU(\\sum w^k * A^k)$"
   ]
  },
  {
   "cell_type": "code",
   "execution_count": 308,
   "metadata": {},
   "outputs": [
    {
     "data": {
      "text/plain": [
       "<matplotlib.image.AxesImage at 0x125490940>"
      ]
     },
     "execution_count": 308,
     "metadata": {},
     "output_type": "execute_result"
    },
    {
     "data": {
      "image/png": "[encoded data removed]",
      "text/plain": [
       "<Figure size 432x288 with 3 Axes>"
      ]
     },
     "metadata": {
      "needs_background": "light"
     },
     "output_type": "display_data"
    }
   ],
   "source": [
    "conv_part = [my_network._modules[l] for l in [\"conv1\", \"pool\", \"conv2\"]]\n",
    "image_index = 10\n",
    "\n",
    "test_img = images[image_index].reshape(1,1,28,28)\n",
    "test_target = labels[image_index].item()\n",
    "\n",
    "# 1. Pass input image only thru the convolutional layers\n",
    "x = conv_part[1](F.relu(conv_part[0](test_img)))\n",
    "x = conv_part[1](F.relu(conv_part[2](x)))\n",
    "x = F.interpolate(x, size=(28,28), mode='bilinear')\n",
    "_,k,_,_ = x.shape\n",
    "\n",
    "# 2. Normalize the masks\n",
    "# 3. Project masks to original image\n",
    "masked_images = []\n",
    "for i in range(k):\n",
    "    maxA = max(x[0,i,:].flatten())\n",
    "    minA = min(x[0,i,:].flatten())\n",
    "    x[0,i,:] /= (maxA-minA + 1e-4)\n",
    "    masked_images.append(test_img * x[:,i,:,:])\n",
    "    \n",
    "# 4. Pass masks through the original network and calculate score\n",
    "weight_scores = [i[test_target] for i in np.exp(my_network(torch.cat(masked_images)).detach().numpy())]\n",
    "\n",
    "# 5. Construct the final mask to be projected\n",
    "final_mask = torch.Tensor(np.zeros((28,28)))\n",
    "for i in range(k):\n",
    "    final_mask += F.relu(x[0,i,:] * torch.Tensor([weight_scores[i]]))\n",
    "\n",
    "# Visualize result\n",
    "plt.figure()\n",
    "plt.subplot(1,3,1)\n",
    "plt.imshow(test_img.reshape(28,28), cmap=\"gray\")\n",
    "\n",
    "plt.subplot(1,3,2)\n",
    "plt.imshow(final_mask.detach().numpy().reshape(28,28), cmap=\"gray\")\n",
    "\n",
    "plt.subplot(1,3,3)\n",
    "final_cam = test_img.detach().numpy().reshape(28,28) * final_mask.detach().numpy()\n",
    "plt.imshow(final_cam, cmap=\"gray\")"
   ]
  },
  {
   "cell_type": "markdown",
   "metadata": {},
   "source": [
    "In the b/w image is hard to see where the filter works\n",
    "\n",
    "we can instead use "
   ]
  },
  {
   "cell_type": "code",
   "execution_count": 274,
   "metadata": {},
   "outputs": [
    {
     "name": "stderr",
     "output_type": "stream",
     "text": [
      "Clipping input data to the valid range for imshow with RGB data ([0..1] for floats or [0..255] for integers).\n"
     ]
    },
    {
     "data": {
      "text/plain": [
       "<matplotlib.image.AxesImage at 0x124f24f60>"
      ]
     },
     "execution_count": 274,
     "metadata": {},
     "output_type": "execute_result"
    },
    {
     "data": {
      "image/png": "[encoded data removed]",
      "text/plain": [
       "<Figure size 432x288 with 1 Axes>"
      ]
     },
     "metadata": {
      "needs_background": "light"
     },
     "output_type": "display_data"
    }
   ],
   "source": [
    "inp = test_img.detach().numpy().reshape(28,28)\n",
    "empty_img = np.zeros((28,28,3))\n",
    "\n",
    "for i in range(28):\n",
    "    for j in range(28):\n",
    "        if inp[i][j] == -1:\n",
    "            empty_img[i][j][0] = 1\n",
    "        else:\n",
    "            empty_img[i][j][1] = 1\n",
    "            \n",
    "for i in range(3):\n",
    "    empty_img[:,:,i] *= final_mask.detach().numpy()\n",
    "plt.imshow(empty_img)"
   ]
  },
  {
   "cell_type": "code",
   "execution_count": null,
   "metadata": {},
   "outputs": [],
   "source": [
    "masked_images"
   ]
  },
  {
   "cell_type": "code",
   "execution_count": 307,
   "metadata": {},
   "outputs": [],
   "source": [
    "final_mask = (x[0,:,:,:].view(28,28,9) * torch.Tensor(weight_scores)).sum(dim=2)\n"
   ]
  },
  {
   "cell_type": "code",
   "execution_count": null,
   "metadata": {},
   "outputs": [],
   "source": []
  },
  {
   "cell_type": "code",
   "execution_count": null,
   "metadata": {},
   "outputs": [],
   "source": []
  },
  {
   "cell_type": "code",
   "execution_count": null,
   "metadata": {},
   "outputs": [],
   "source": []
  },
  {
   "cell_type": "code",
   "execution_count": null,
   "metadata": {},
   "outputs": [],
   "source": []
  }
 ],
 "metadata": {
  "kernelspec": {
   "display_name": "Python 3",
   "language": "python",
   "name": "python3"
  },
  "language_info": {
   "codemirror_mode": {
    "name": "ipython",
    "version": 3
   },
   "file_extension": ".py",
   "mimetype": "text/x-python",
   "name": "python",
   "nbconvert_exporter": "python",
   "pygments_lexer": "ipython3",
   "version": "3.6.8"
  }
 },
 "nbformat": 4,
 "nbformat_minor": 2
}
